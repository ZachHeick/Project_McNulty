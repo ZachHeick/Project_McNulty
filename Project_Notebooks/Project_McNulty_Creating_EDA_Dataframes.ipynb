{
 "cells": [
  {
   "cell_type": "markdown",
   "metadata": {},
   "source": [
    "Topic: Project 3      \n",
    "Subject: Creating Dataframes for EDA   \n",
    "Date: 10/25/2017   \n",
    "Name: Zach Heick  "
   ]
  },
  {
   "cell_type": "markdown",
   "metadata": {},
   "source": [
    "**Summary**: The objective of this notebook is to make organized dataframes for creating visualizations easier. The dataframes will have data on pick and ban counts for champions, their roles, and their win rates."
   ]
  },
  {
   "cell_type": "code",
   "execution_count": 1,
   "metadata": {
    "collapsed": true
   },
   "outputs": [],
   "source": [
    "import pickle\n",
    "import pandas as pd\n",
    "import numpy as np"
   ]
  },
  {
   "cell_type": "code",
   "execution_count": 2,
   "metadata": {
    "collapsed": true
   },
   "outputs": [],
   "source": [
    "games_df = pd.read_pickle('EDA_df.pickle')\n",
    "champ_df = pd.read_pickle('champ_info.pickle')"
   ]
  },
  {
   "cell_type": "markdown",
   "metadata": {},
   "source": [
    "## Picks and Bans"
   ]
  },
  {
   "cell_type": "code",
   "execution_count": 3,
   "metadata": {
    "collapsed": true
   },
   "outputs": [],
   "source": [
    "picks = pd.concat(\n",
    "    [games_df['blue_champ1id'], games_df['blue_champ2id'], games_df['blue_champ3id'], games_df['blue_champ4id'],\n",
    "     games_df['blue_champ5id'], games_df['red_champ1id'], games_df['red_champ2id'], games_df['red_champ3id'],\n",
    "     games_df['red_champ4id'], games_df['red_champ5id']], ignore_index=True\n",
    ")\n",
    "\n",
    "picks_df = pd.DataFrame(picks.value_counts())\n",
    "picks_df.rename(columns={0:'Picks'}, inplace=True)\n",
    "roles = []\n",
    "\n",
    "# Get the role of each champion\n",
    "for champ in picks_df.index:\n",
    "    role = champ_df[champ_df['name'] == champ]['role'].to_string().split()[2]\n",
    "    roles.append(role)\n",
    "picks_df['Role'] = roles"
   ]
  },
  {
   "cell_type": "code",
   "execution_count": 4,
   "metadata": {},
   "outputs": [
    {
     "data": {
      "text/html": [
       "<div>\n",
       "<style>\n",
       "    .dataframe thead tr:only-child th {\n",
       "        text-align: right;\n",
       "    }\n",
       "\n",
       "    .dataframe thead th {\n",
       "        text-align: left;\n",
       "    }\n",
       "\n",
       "    .dataframe tbody tr th {\n",
       "        vertical-align: top;\n",
       "    }\n",
       "</style>\n",
       "<table border=\"1\" class=\"dataframe\">\n",
       "  <thead>\n",
       "    <tr style=\"text-align: right;\">\n",
       "      <th></th>\n",
       "      <th>Picks</th>\n",
       "      <th>Role</th>\n",
       "    </tr>\n",
       "  </thead>\n",
       "  <tbody>\n",
       "    <tr>\n",
       "      <th>Katarina</th>\n",
       "      <td>3188</td>\n",
       "      <td>assassin</td>\n",
       "    </tr>\n",
       "    <tr>\n",
       "      <th>Kindred</th>\n",
       "      <td>1067</td>\n",
       "      <td>marksman</td>\n",
       "    </tr>\n",
       "    <tr>\n",
       "      <th>Braum</th>\n",
       "      <td>3507</td>\n",
       "      <td>support</td>\n",
       "    </tr>\n",
       "    <tr>\n",
       "      <th>Viktor</th>\n",
       "      <td>1652</td>\n",
       "      <td>mage</td>\n",
       "    </tr>\n",
       "    <tr>\n",
       "      <th>Tryndamere</th>\n",
       "      <td>3859</td>\n",
       "      <td>fighter</td>\n",
       "    </tr>\n",
       "  </tbody>\n",
       "</table>\n",
       "</div>"
      ],
      "text/plain": [
       "            Picks      Role\n",
       "Katarina     3188  assassin\n",
       "Kindred      1067  marksman\n",
       "Braum        3507   support\n",
       "Viktor       1652      mage\n",
       "Tryndamere   3859   fighter"
      ]
     },
     "execution_count": 4,
     "metadata": {},
     "output_type": "execute_result"
    }
   ],
   "source": [
    "picks_df.sample(5)"
   ]
  },
  {
   "cell_type": "code",
   "execution_count": 5,
   "metadata": {
    "collapsed": true
   },
   "outputs": [],
   "source": [
    "bans = pd.concat(\n",
    "    [games_df['blue_ban1'], games_df['blue_ban2'], games_df['blue_ban3'], games_df['blue_ban4'], games_df['blue_ban5'],\n",
    "     games_df['red_ban1'], games_df['red_ban2'], games_df['red_ban3'], games_df['red_ban4'], games_df['red_ban5']],\n",
    "    ignore_index=True\n",
    ")\n",
    "\n",
    "bans_df = pd.DataFrame(bans.value_counts())\n",
    "bans_df.rename(columns={0:'Bans'}, inplace=True)\n",
    "roles = []\n",
    "\n",
    "# Get the role of each champion\n",
    "for champ in bans_df.index:\n",
    "    role = champ_df[champ_df['name'] == champ]['role'].to_string().split()[2]\n",
    "    roles.append(role)\n",
    "bans_df['Role'] = roles"
   ]
  },
  {
   "cell_type": "code",
   "execution_count": 6,
   "metadata": {},
   "outputs": [
    {
     "data": {
      "text/html": [
       "<div>\n",
       "<style>\n",
       "    .dataframe thead tr:only-child th {\n",
       "        text-align: right;\n",
       "    }\n",
       "\n",
       "    .dataframe thead th {\n",
       "        text-align: left;\n",
       "    }\n",
       "\n",
       "    .dataframe tbody tr th {\n",
       "        vertical-align: top;\n",
       "    }\n",
       "</style>\n",
       "<table border=\"1\" class=\"dataframe\">\n",
       "  <thead>\n",
       "    <tr style=\"text-align: right;\">\n",
       "      <th></th>\n",
       "      <th>Bans</th>\n",
       "      <th>Role</th>\n",
       "    </tr>\n",
       "  </thead>\n",
       "  <tbody>\n",
       "    <tr>\n",
       "      <th>Akali</th>\n",
       "      <td>4235</td>\n",
       "      <td>assassin</td>\n",
       "    </tr>\n",
       "    <tr>\n",
       "      <th>Singed</th>\n",
       "      <td>471</td>\n",
       "      <td>tank</td>\n",
       "    </tr>\n",
       "    <tr>\n",
       "      <th>Draven</th>\n",
       "      <td>19087</td>\n",
       "      <td>marksman</td>\n",
       "    </tr>\n",
       "    <tr>\n",
       "      <th>Irelia</th>\n",
       "      <td>1076</td>\n",
       "      <td>fighter</td>\n",
       "    </tr>\n",
       "    <tr>\n",
       "      <th>Galio</th>\n",
       "      <td>1956</td>\n",
       "      <td>tank</td>\n",
       "    </tr>\n",
       "  </tbody>\n",
       "</table>\n",
       "</div>"
      ],
      "text/plain": [
       "         Bans      Role\n",
       "Akali    4235  assassin\n",
       "Singed    471      tank\n",
       "Draven  19087  marksman\n",
       "Irelia   1076   fighter\n",
       "Galio    1956      tank"
      ]
     },
     "execution_count": 6,
     "metadata": {},
     "output_type": "execute_result"
    }
   ],
   "source": [
    "bans_df.sample(5)"
   ]
  },
  {
   "cell_type": "markdown",
   "metadata": {},
   "source": [
    "Get the most popular champions and merge with their ban count."
   ]
  },
  {
   "cell_type": "code",
   "execution_count": 7,
   "metadata": {
    "collapsed": true
   },
   "outputs": [],
   "source": [
    "picks_and_bans_df = picks_df.merge(bans_df, how='left', left_index=True,right_index=True)"
   ]
  },
  {
   "cell_type": "code",
   "execution_count": 8,
   "metadata": {
    "collapsed": true
   },
   "outputs": [],
   "source": [
    "roles = []\n",
    "for champ in picks_and_bans_df.index:\n",
    "    role = champ_df[champ_df['name'] == champ]['role'].to_string().split()[2]\n",
    "    roles.append(role)\n",
    "picks_and_bans_df['Role'] = roles\n",
    "\n",
    "# Drop extra columns\n",
    "picks_and_bans_df.drop(['Role_x'], axis=1, inplace=True)\n",
    "picks_and_bans_df.drop(['Role_y'], axis=1, inplace=True)"
   ]
  },
  {
   "cell_type": "code",
   "execution_count": 9,
   "metadata": {},
   "outputs": [
    {
     "data": {
      "text/html": [
       "<div>\n",
       "<style>\n",
       "    .dataframe thead tr:only-child th {\n",
       "        text-align: right;\n",
       "    }\n",
       "\n",
       "    .dataframe thead th {\n",
       "        text-align: left;\n",
       "    }\n",
       "\n",
       "    .dataframe tbody tr th {\n",
       "        vertical-align: top;\n",
       "    }\n",
       "</style>\n",
       "<table border=\"1\" class=\"dataframe\">\n",
       "  <thead>\n",
       "    <tr style=\"text-align: right;\">\n",
       "      <th></th>\n",
       "      <th>Picks</th>\n",
       "      <th>Bans</th>\n",
       "      <th>Role</th>\n",
       "    </tr>\n",
       "  </thead>\n",
       "  <tbody>\n",
       "    <tr>\n",
       "      <th>Nunu</th>\n",
       "      <td>1210</td>\n",
       "      <td>355</td>\n",
       "      <td>tank</td>\n",
       "    </tr>\n",
       "    <tr>\n",
       "      <th>Lulu</th>\n",
       "      <td>6275</td>\n",
       "      <td>12491</td>\n",
       "      <td>support</td>\n",
       "    </tr>\n",
       "    <tr>\n",
       "      <th>Nautilus</th>\n",
       "      <td>1965</td>\n",
       "      <td>185</td>\n",
       "      <td>tank</td>\n",
       "    </tr>\n",
       "    <tr>\n",
       "      <th>Shaco</th>\n",
       "      <td>2380</td>\n",
       "      <td>1417</td>\n",
       "      <td>assassin</td>\n",
       "    </tr>\n",
       "    <tr>\n",
       "      <th>Skarner</th>\n",
       "      <td>544</td>\n",
       "      <td>64</td>\n",
       "      <td>fighter</td>\n",
       "    </tr>\n",
       "  </tbody>\n",
       "</table>\n",
       "</div>"
      ],
      "text/plain": [
       "          Picks   Bans      Role\n",
       "Nunu       1210    355      tank\n",
       "Lulu       6275  12491   support\n",
       "Nautilus   1965    185      tank\n",
       "Shaco      2380   1417  assassin\n",
       "Skarner     544     64   fighter"
      ]
     },
     "execution_count": 9,
     "metadata": {},
     "output_type": "execute_result"
    }
   ],
   "source": [
    "picks_and_bans_df.sample(5)"
   ]
  },
  {
   "cell_type": "markdown",
   "metadata": {},
   "source": [
    "## Win Rate"
   ]
  },
  {
   "cell_type": "markdown",
   "metadata": {},
   "source": [
    "For each champion, get their win rate on blue and red side, then average the two win rates."
   ]
  },
  {
   "cell_type": "code",
   "execution_count": 10,
   "metadata": {
    "collapsed": true
   },
   "outputs": [],
   "source": [
    "win_rate = []\n",
    "\n",
    "for champ in picks_df.index:\n",
    "    blue_df = games_df[(games_df['blue_champ1id'].str.contains(champ))|\n",
    "        (games_df['blue_champ2id'].str.contains(champ))|\n",
    "        (games_df['blue_champ3id'].str.contains(champ))|\n",
    "        (games_df['blue_champ4id'].str.contains(champ))|\n",
    "        (games_df['blue_champ5id'].str.contains(champ))]\n",
    "    \n",
    "    red_df = games_df[(games_df['red_champ1id'].str.contains(champ))|\n",
    "        (games_df['red_champ2id'].str.contains(champ))|\n",
    "        (games_df['red_champ3id'].str.contains(champ))|\n",
    "        (games_df['red_champ4id'].str.contains(champ))|\n",
    "        (games_df['red_champ5id'].str.contains(champ))]\n",
    "    \n",
    "    blue_total = len(blue_df)\n",
    "    red_total = len(red_df)\n",
    "    \n",
    "    blue_wins = len(blue_df[blue_df['winner'] == 1])\n",
    "    red_wins = len(red_df[red_df['winner'] == 2])\n",
    "    \n",
    "    blue_win_rate = blue_wins/blue_total\n",
    "    red_win_rate = red_wins/red_total\n",
    "    \n",
    "    avg_win_rate = (blue_win_rate + red_win_rate)/2\n",
    "    \n",
    "    win_rate.append(avg_win_rate)"
   ]
  },
  {
   "cell_type": "code",
   "execution_count": 11,
   "metadata": {
    "collapsed": true
   },
   "outputs": [],
   "source": [
    "picks_df['Win_rate'] = win_rate"
   ]
  },
  {
   "cell_type": "code",
   "execution_count": 12,
   "metadata": {},
   "outputs": [
    {
     "data": {
      "text/html": [
       "<div>\n",
       "<style>\n",
       "    .dataframe thead tr:only-child th {\n",
       "        text-align: right;\n",
       "    }\n",
       "\n",
       "    .dataframe thead th {\n",
       "        text-align: left;\n",
       "    }\n",
       "\n",
       "    .dataframe tbody tr th {\n",
       "        vertical-align: top;\n",
       "    }\n",
       "</style>\n",
       "<table border=\"1\" class=\"dataframe\">\n",
       "  <thead>\n",
       "    <tr style=\"text-align: right;\">\n",
       "      <th></th>\n",
       "      <th>Picks</th>\n",
       "      <th>Role</th>\n",
       "      <th>Win_rate</th>\n",
       "    </tr>\n",
       "  </thead>\n",
       "  <tbody>\n",
       "    <tr>\n",
       "      <th>Singed</th>\n",
       "      <td>1328</td>\n",
       "      <td>tank</td>\n",
       "      <td>0.535265</td>\n",
       "    </tr>\n",
       "    <tr>\n",
       "      <th>Olaf</th>\n",
       "      <td>1476</td>\n",
       "      <td>fighter</td>\n",
       "      <td>0.476366</td>\n",
       "    </tr>\n",
       "    <tr>\n",
       "      <th>Annie</th>\n",
       "      <td>3073</td>\n",
       "      <td>mage</td>\n",
       "      <td>0.502903</td>\n",
       "    </tr>\n",
       "    <tr>\n",
       "      <th>Twitch</th>\n",
       "      <td>8277</td>\n",
       "      <td>marksman</td>\n",
       "      <td>0.529267</td>\n",
       "    </tr>\n",
       "    <tr>\n",
       "      <th>Zyra</th>\n",
       "      <td>2215</td>\n",
       "      <td>mage</td>\n",
       "      <td>0.501540</td>\n",
       "    </tr>\n",
       "  </tbody>\n",
       "</table>\n",
       "</div>"
      ],
      "text/plain": [
       "        Picks      Role  Win_rate\n",
       "Singed   1328      tank  0.535265\n",
       "Olaf     1476   fighter  0.476366\n",
       "Annie    3073      mage  0.502903\n",
       "Twitch   8277  marksman  0.529267\n",
       "Zyra     2215      mage  0.501540"
      ]
     },
     "execution_count": 12,
     "metadata": {},
     "output_type": "execute_result"
    }
   ],
   "source": [
    "picks_df.sample(5)"
   ]
  },
  {
   "cell_type": "markdown",
   "metadata": {},
   "source": [
    "Pickle dataframe for visualization."
   ]
  },
  {
   "cell_type": "code",
   "execution_count": 13,
   "metadata": {
    "collapsed": true
   },
   "outputs": [],
   "source": [
    "picks_df.to_pickle('picks.pickle')\n",
    "bans_df.to_pickle('bans.pickle')\n",
    "picks_and_bans_df.to_pickle('picks_and_bans.pickle')"
   ]
  }
 ],
 "metadata": {
  "kernelspec": {
   "display_name": "Python [default]",
   "language": "python",
   "name": "python3"
  },
  "language_info": {
   "codemirror_mode": {
    "name": "ipython",
    "version": 3
   },
   "file_extension": ".py",
   "mimetype": "text/x-python",
   "name": "python",
   "nbconvert_exporter": "python",
   "pygments_lexer": "ipython3",
   "version": "3.6.2"
  }
 },
 "nbformat": 4,
 "nbformat_minor": 2
}
